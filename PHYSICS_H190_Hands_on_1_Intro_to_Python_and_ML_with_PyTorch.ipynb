{
  "nbformat": 4,
  "nbformat_minor": 0,
  "metadata": {
    "colab": {
      "provenance": [],
      "collapsed_sections": [
        "rGhmCDxq06Ja",
        "6-11KzqDxvbD",
        "eDK6tTjVsiYl"
      ],
      "include_colab_link": true
    },
    "kernelspec": {
      "name": "python3",
      "display_name": "Python 3"
    },
    "language_info": {
      "name": "python"
    }
  },
  "cells": [
    {
      "cell_type": "markdown",
      "metadata": {
        "id": "view-in-github",
        "colab_type": "text"
      },
      "source": [
        "<a href=\"https://colab.research.google.com/github/YUBO-Q/Python-100-Days/blob/master/PHYSICS_H190_Hands_on_1_Intro_to_Python_and_ML_with_PyTorch.ipynb\" target=\"_parent\"><img src=\"https://colab.research.google.com/assets/colab-badge.svg\" alt=\"Open In Colab\"/></a>"
      ]
    },
    {
      "cell_type": "markdown",
      "source": [
        "## Introduction\n",
        "This notebook is designed to introduce you to training deep learning models in pytorch.\n",
        "\n",
        "The notebook is laid out as follows:\n",
        "\n",
        "\n",
        "1.   Basic python: introduction to varaibles, functions, object-oriented programming, and pytorch tensors\n",
        "2.   Autodifferentiation: Learn how forward- and reverse-mode mode autograd works, a foundational tool which makes training deep learning models possible, and is quite useful for non-deep-learning things as well.\n",
        "3.   Gradient Descent Optimization: Learn how gradient descent optimization works, again essential for deep learning and nearly as essential for pretty much the rest of science.\n",
        "4.   Machine Learning: Learn how to design and train a perceptron from scratch.\n",
        "\n",
        "Each section will open with introductory examples and light exercise questions to teach you how to do the titular thing, and conlcude with an exercise which will force you to demonstrate what you have learned.\n",
        "\n"
      ],
      "metadata": {
        "id": "tT13-rCoRL3Z"
      }
    },
    {
      "cell_type": "markdown",
      "source": [
        "## Basic Python"
      ],
      "metadata": {
        "id": "rGhmCDxq06Ja"
      }
    },
    {
      "cell_type": "markdown",
      "source": [
        "### Variables and datatypes\n",
        "\n"
      ],
      "metadata": {
        "id": "cRuKCJl-1TnC"
      }
    },
    {
      "cell_type": "markdown",
      "source": [
        "Computer programs are like factory conveyor belts, passing data from one step in the process to the next, changing/removing/adding to it at each stage. This data is classified into a number of datatypes, which describe what kind of value a particular pice of data describes. For example:\n",
        "\n",
        "*   A string (`str`) is a piece of text.\n",
        "*   An integer (`int`) is a whole number from -infinity to infinity.\n",
        "*   A float (`float`) is a rational number with decimal places.\n",
        "\n",
        "We call the pieces of data `variables`, since we can in general change them. A variable is fundamentally a collection of binary code sitting somewhere in memory, usually the RAM when you are actively working with it in python. To use this data, you need to be able to tell the computer which chunk of data in memory it occupies. We therefore give each piece of data one or more names called `pointers`.\n",
        "\n",
        "Python has automatic garbage collection, which means the python interpreter constantly checks whether all pointers to a particular variable have been deleted or reassigned to a different variable. If this happens, the variable is deleted. This does not happen automatically in some languages like C, as it adds a little bit of comptuational overhead, but makes it much easier to avoid overfilling your RAM with decapitated junk. I will use the terms variable and pointer interchangably most of the time since usually each variable will only have one pointer, but they are different.\n"
      ],
      "metadata": {
        "id": "fSvHHPjLScHN"
      }
    },
    {
      "cell_type": "code",
      "source": [
        "import sys #We will need functions in the sys package. This module comes with python, but we need to let the computer know we want to use it first.\n",
        "aStringVariable = 'flamingo' # Here, we have just defined a new variable, a pice of text reading 'flamingo'. aStringVariable is a pointer we assign to 'flamingo'.\n",
        "print(sys.getsizeof(aStringVariable)) #This is the size of the variable in bytes. One byte is a string of 8 0/1 bits sitting next to each other in memory."
      ],
      "metadata": {
        "colab": {
          "base_uri": "https://localhost:8080/"
        },
        "id": "cVFleu_v26Rx",
        "outputId": "e9e2cb8c-f24d-4268-85fe-51527afd827a"
      },
      "execution_count": null,
      "outputs": [
        {
          "output_type": "stream",
          "name": "stdout",
          "text": [
            "57\n"
          ]
        }
      ]
    },
    {
      "cell_type": "code",
      "source": [
        "aStringVariable = 'flamingos' # Here, we have just reassigned aStringVariable to a new piece of text, 'flamingos'. Since the old peice of text no longer has any active pointers, it was just deleted buy the garbage collector\n",
        "print(sys.getsizeof(aStringVariable)) #This is the size of the new variable in bytes. Notice it is one byte longer. Each variable has a lot of overhead associated with it, hence the extra 49 bytes doing something other than recording letters."
      ],
      "metadata": {
        "colab": {
          "base_uri": "https://localhost:8080/"
        },
        "id": "5MVCKTcP5aXG",
        "outputId": "4f51d8f0-bc30-4695-d975-6628103406d7"
      },
      "execution_count": null,
      "outputs": [
        {
          "output_type": "stream",
          "name": "stdout",
          "text": [
            "58\n"
          ]
        }
      ]
    },
    {
      "cell_type": "code",
      "source": [
        "print(type(aStringVariable)) #Here, we print the datatype of aStringVariable. It is a 'str' datatype, a string."
      ],
      "metadata": {
        "colab": {
          "base_uri": "https://localhost:8080/"
        },
        "id": "Eg9FMpZn5erM",
        "outputId": "7714e6d2-20e7-4d9a-fbac-9a43e4c3adf1"
      },
      "execution_count": null,
      "outputs": [
        {
          "output_type": "stream",
          "name": "stdout",
          "text": [
            "<class 'str'>\n"
          ]
        }
      ]
    },
    {
      "cell_type": "code",
      "source": [
        "anIntegerVariable = 42 #Now, let's define an integer variable. Admit it, you already knew which integer I was going to choose.\n",
        "print(type(anIntegerVariable)) #Sure enough, it is an 'int', an integer"
      ],
      "metadata": {
        "colab": {
          "base_uri": "https://localhost:8080/"
        },
        "id": "wXcvytRg5pbu",
        "outputId": "560fb791-8e74-4245-cb5e-ad69c9776056"
      },
      "execution_count": null,
      "outputs": [
        {
          "output_type": "stream",
          "name": "stdout",
          "text": [
            "<class 'int'>\n"
          ]
        }
      ]
    },
    {
      "cell_type": "code",
      "source": [
        "aFloatVariable = 42.24 #Now, let's define a float variable. If it has decimals, python will assume it is a float (specifically a float32, with 32 bits assigned to it: one for sign, eight for the integer part, 23 for the decimal. This is only accurate up to a certain number of decimal places, called the \"machine precision\")\n",
        "print(type(aFloatVariable)) #Sure enough, it is a 'float'"
      ],
      "metadata": {
        "colab": {
          "base_uri": "https://localhost:8080/"
        },
        "id": "QGimIE9W6E8o",
        "outputId": "1b8ca693-3e92-4fd4-d578-df171b35581c"
      },
      "execution_count": null,
      "outputs": [
        {
          "output_type": "stream",
          "name": "stdout",
          "text": [
            "<class 'float'>\n"
          ]
        }
      ]
    },
    {
      "cell_type": "markdown",
      "source": [
        "Different datatypes can do different things. Sometimes we can combine two values of different datatypes; sometimes we can't. Sometimes we can convert one datatype to another; sometimes we can't. Best way to figure it out is to experiment! Try mixing and matching the variables below, and see what the result is."
      ],
      "metadata": {
        "id": "Bbw_gcr77O_m"
      }
    },
    {
      "cell_type": "code",
      "source": [
        "string1 = 'a'\n",
        "string2 = 'b'\n",
        "int1 = 1\n",
        "int2 = 2\n",
        "float1 = 3.675\n",
        "float2 = 4.114"
      ],
      "metadata": {
        "id": "YAJT7ND07Mvk"
      },
      "execution_count": null,
      "outputs": []
    },
    {
      "cell_type": "markdown",
      "source": [
        "For example, we can subtract an `int` from a `float`, and the result is a `float`"
      ],
      "metadata": {
        "id": "N92KZubt8Bk7"
      }
    },
    {
      "cell_type": "code",
      "source": [
        "floatIntDifference = float1-int2\n",
        "print(floatIntDifference)\n",
        "print(type(floatIntDifference))"
      ],
      "metadata": {
        "colab": {
          "base_uri": "https://localhost:8080/"
        },
        "id": "dmZgjio_73ny",
        "outputId": "5661ab0f-7258-49ae-c962-d1d958c8ab26"
      },
      "execution_count": null,
      "outputs": [
        {
          "output_type": "stream",
          "name": "stdout",
          "text": [
            "1.6749999999999998\n",
            "<class 'float'>\n"
          ]
        }
      ]
    },
    {
      "cell_type": "markdown",
      "source": [
        "But we can't add a `str` and a `float`"
      ],
      "metadata": {
        "id": "JFkOde7A8Gdi"
      }
    },
    {
      "cell_type": "code",
      "source": [
        "floatStringSum=float1+string2 #The error message tells you the operation + cannot be used when one varaible is a float and the other a str"
      ],
      "metadata": {
        "colab": {
          "base_uri": "https://localhost:8080/",
          "height": 163
        },
        "id": "WBpv-cjl8Ipj",
        "outputId": "61fbfe3f-4b23-4834-ed94-c79cf03767dd"
      },
      "execution_count": null,
      "outputs": [
        {
          "output_type": "error",
          "ename": "TypeError",
          "evalue": "unsupported operand type(s) for +: 'float' and 'str'",
          "traceback": [
            "\u001b[0;31m---------------------------------------------------------------------------\u001b[0m",
            "\u001b[0;31mTypeError\u001b[0m                                 Traceback (most recent call last)",
            "\u001b[0;32m<ipython-input-10-e86cd1eebff5>\u001b[0m in \u001b[0;36m<cell line: 0>\u001b[0;34m()\u001b[0m\n\u001b[0;32m----> 1\u001b[0;31m \u001b[0mfloatStringSum\u001b[0m\u001b[0;34m=\u001b[0m\u001b[0mfloat1\u001b[0m\u001b[0;34m+\u001b[0m\u001b[0mstring2\u001b[0m \u001b[0;31m#The error message tells you the operation + cannot be used when one varaible is a float and the other a str\u001b[0m\u001b[0;34m\u001b[0m\u001b[0;34m\u001b[0m\u001b[0m\n\u001b[0m",
            "\u001b[0;31mTypeError\u001b[0m: unsupported operand type(s) for +: 'float' and 'str'"
          ]
        }
      ]
    },
    {
      "cell_type": "markdown",
      "source": [
        "### Functions"
      ],
      "metadata": {
        "id": "MM3rKzQk0-gp"
      }
    },
    {
      "cell_type": "markdown",
      "source": [
        "A python function works just like a mathematical function: one or more values are inputted as arguments, and one or more values are returned. We've already been using some functions: `type()`, for example, is a function which accepts any variable as an argument, and returns a special `'type'` datatype describing what kind of data it is. We can also define our own functions"
      ],
      "metadata": {
        "id": "hszEcNCrQ-YT"
      }
    },
    {
      "cell_type": "code",
      "execution_count": null,
      "metadata": {
        "colab": {
          "base_uri": "https://localhost:8080/"
        },
        "id": "70f9ooOG0oGo",
        "outputId": "4622a937-ad0e-46db-f456-a05eca3bb029"
      },
      "outputs": [
        {
          "output_type": "stream",
          "name": "stdout",
          "text": [
            "4\n",
            "-2\n",
            "3\n",
            "-1\n"
          ]
        }
      ],
      "source": [
        "def addSubtract(a,b = 2): #Here, we define a function called \"addSubtract\" with two arguments, \"a\" and \"b\". b's default argument is 2; if we call the function without specifying b, b will equal 2\n",
        "    sumValue = a+b #Within the function we can define new variables as we like. These varaibles only exist in the function; nothing outside the function knows what \"sumValue\" is\n",
        "    differenceValue = a-b\n",
        "    return sumValue,differenceValue #This function returns two values, the sum and the difference\n",
        "\n",
        "testSumValue,testDifferenceValue = addSubtract(1,3) #We call the function and get the output\n",
        "print(testSumValue)\n",
        "print(testDifferenceValue)\n",
        "\n",
        "\n",
        "testSumValue,testDifferenceValue = addSubtract(1) #If we do not specify b, b will default to 2\n",
        "print(testSumValue)\n",
        "print(testDifferenceValue)"
      ]
    },
    {
      "cell_type": "markdown",
      "source": [
        "### Pytorch Tensors"
      ],
      "metadata": {
        "id": "ZCUGLGujt9VT"
      }
    },
    {
      "cell_type": "markdown",
      "source": [
        "A `Tensor` is PyTorch's primary data structure. It's very similar to a NumPy `array` but can run on CPU or GPU, and it integrates with PyTorch's `autograd` system for automatic differentiation.\n",
        "\n",
        "Key points:\n",
        "- A tensor is an n-dimensional array.\n",
        "- PyTorch tensors can be moved to a GPU to speed up computations if one is available.\n",
        "- They can have a flag `requires_grad` that allows PyTorch to track operations on them for gradient computation.\n",
        "\n",
        "Below, we’ll create, inspect, and manipulate simple tensors."
      ],
      "metadata": {
        "id": "gH329sVR4YBy"
      }
    },
    {
      "cell_type": "code",
      "source": [
        "import torch\n",
        "# --- Part 1: Creating and Inspecting Tensors ---\n",
        "\n",
        "# 1.1 Create a tensor from a Python list\n",
        "data_list = [1.0, 2.0, 3.0]\n",
        "tensor_from_list = torch.tensor(data_list)\n",
        "print(\"Tensor from list:\", tensor_from_list)\n",
        "\n",
        "# 1.2 Create a 2D tensor (matrix) using a list of lists\n",
        "matrix_data = [[1, 2, 3],\n",
        "               [4, 5, 6]]\n",
        "tensor_2d = torch.tensor(matrix_data)\n",
        "print(\"2D Tensor:\\n\", tensor_2d)\n",
        "\n",
        "# 1.3 Create a tensor with random values\n",
        "random_tensor = torch.randn(3, 3)  # shape (3x3)\n",
        "print(\"\\nRandom tensor:\\n\", random_tensor)\n",
        "\n",
        "# 1.4 Check attributes\n",
        "print(\"\\nTensor shape:\", random_tensor.shape)\n",
        "print(\"Tensor dtype:\", random_tensor.dtype)\n",
        "print(\"Tensor device:\", random_tensor.device)  # typically 'cpu', unless moved to GPU\n",
        "\n",
        "# 1.5 Move tensor to GPU if available (just a demonstration)\n",
        "if torch.cuda.is_available():\n",
        "    random_tensor_gpu = random_tensor.to('cuda')\n",
        "    print(\"Tensor device after .to('cuda'):\", random_tensor_gpu.device)\n",
        "else:\n",
        "    print(\"CUDA not available, using CPU.\")"
      ],
      "metadata": {
        "id": "1sDIH7bGt8AB",
        "colab": {
          "base_uri": "https://localhost:8080/"
        },
        "outputId": "27c766ff-eae5-4293-c5c7-8be01261325f"
      },
      "execution_count": null,
      "outputs": [
        {
          "output_type": "stream",
          "name": "stdout",
          "text": [
            "Tensor from list: tensor([1., 2., 3.])\n",
            "2D Tensor:\n",
            " tensor([[1, 2, 3],\n",
            "        [4, 5, 6]])\n",
            "\n",
            "Random tensor:\n",
            " tensor([[-0.2773, -0.3788,  1.2081],\n",
            "        [-0.6386,  0.4494, -0.6825],\n",
            "        [-1.2075, -0.4826, -0.8559]])\n",
            "\n",
            "Tensor shape: torch.Size([3, 3])\n",
            "Tensor dtype: torch.float32\n",
            "Tensor device: cpu\n",
            "CUDA not available, using CPU.\n"
          ]
        }
      ]
    },
    {
      "cell_type": "markdown",
      "source": [
        "**Note**: By default, PyTorch tensors are created on the CPU. If you have a GPU and want your tensor to reside there for faster computation, you can move it by calling:\n",
        "```python\n",
        "tensor = tensor.to(\"cuda\")```"
      ],
      "metadata": {
        "id": "tJfBNhnn4kLU"
      }
    },
    {
      "cell_type": "markdown",
      "source": [
        " Transforming Tensor Dimensions\n",
        "\n",
        "Manipulating tensor dimensions is a frequent task:\n",
        "1. **`reshape` / `view`**: Change the shape of a tensor without changing its contents.\n",
        "2. **`unsqueeze` / `squeeze`**: Add or remove dimensions of size 1.\n",
        "3. **`permute`**: Rearrange dimensions.\n",
        "\n",
        "**Pitfall**: Always ensure that when you reshape, the number of elements remains consistent."
      ],
      "metadata": {
        "id": "0NipQ5RS4r3b"
      }
    },
    {
      "cell_type": "code",
      "source": [
        "# --- Part 2: Reshaping & Dimension Operations ---\n",
        "\n",
        "# Create a 1D tensor of 12 elements\n",
        "t = torch.arange(12)  # [0, 1, 2, ..., 11]\n",
        "print(\"Original t:\", t)\n",
        "print(\"Original shape:\", t.shape)\n",
        "\n",
        "# 2.1 reshape (or view)\n",
        "t_reshaped = t.reshape(3, 4)  # shape [3,4]\n",
        "print(\"\\nReshaped to [3, 4]:\\n\", t_reshaped)\n",
        "\n",
        "# 2.2 unsqueeze: add a dimension of size 1\n",
        "t_unsqueezed = t_reshaped.unsqueeze(dim=0)  # adds a dimension at index 0\n",
        "print(\"\\nUnsqueezed shape:\", t_unsqueezed.shape)\n",
        "\n",
        "# 2.3 squeeze: remove dimensions of size 1\n",
        "t_squeezed_back = t_unsqueezed.squeeze(dim=0)\n",
        "print(\"Shape after squeeze:\", t_squeezed_back.shape)\n",
        "\n",
        "# 2.4 permute: rearrange dimensions (commonly used for [H,W,C] -> [C,H,W], etc.)\n",
        "# We'll create a 3D tensor for demonstration\n",
        "t_3d = torch.randn(2, 3, 4)  # shape [2,3,4]\n",
        "print(\"\\nOriginal t_3d shape:\", t_3d.shape)\n",
        "\n",
        "# Suppose we want to swap dimension 0 and 1\n",
        "t_permuted = t_3d.permute(1, 0, 2)\n",
        "print(\"Permuted t_3d shape:\", t_permuted.shape)"
      ],
      "metadata": {
        "colab": {
          "base_uri": "https://localhost:8080/"
        },
        "id": "WJvSIw3G4zG8",
        "outputId": "6102e525-adbd-4d6a-fb4d-bc4d2836cded"
      },
      "execution_count": null,
      "outputs": [
        {
          "output_type": "stream",
          "name": "stdout",
          "text": [
            "Original t: tensor([ 0,  1,  2,  3,  4,  5,  6,  7,  8,  9, 10, 11])\n",
            "Original shape: torch.Size([12])\n",
            "\n",
            "Reshaped to [3, 4]:\n",
            " tensor([[ 0,  1,  2,  3],\n",
            "        [ 4,  5,  6,  7],\n",
            "        [ 8,  9, 10, 11]])\n",
            "\n",
            "Unsqueezed shape: torch.Size([1, 3, 4])\n",
            "Shape after squeeze: torch.Size([3, 4])\n",
            "\n",
            "Original t_3d shape: torch.Size([2, 3, 4])\n",
            "Permuted t_3d shape: torch.Size([3, 2, 4])\n"
          ]
        }
      ]
    },
    {
      "cell_type": "markdown",
      "source": [
        "**Key lesson**:\n",
        "- Make sure your reshaping is consistent with the total number of elements.\n",
        "- `squeeze()` only removes dimensions of size 1, so if there's no dimension of size 1, it does nothing (unless you specify a dimension).\n",
        "- `permute()` is often used to reorder dimensions for certain operations (e.g., convolution layers often expect `[Batch, Channels, Height, Width]` format)."
      ],
      "metadata": {
        "id": "3izAGvQM49nj"
      }
    },
    {
      "cell_type": "markdown",
      "source": [
        "Basic Arithmetic with Tensors\n",
        "\n",
        "PyTorch supports element-wise operations like `+`, `-`, `*`, `/`, as well as matrix multiplication via `@` or `torch.matmul`.\n",
        "\n",
        "**Be careful** with shape mismatches; PyTorch uses **broadcasting** rules, similar to NumPy, to make operations work if possible."
      ],
      "metadata": {
        "id": "RVpPG8li5EFj"
      }
    },
    {
      "cell_type": "code",
      "source": [
        "# --- Part 3: Arithmetic ---\n",
        "\n",
        "# 3.1 Simple element-wise operations\n",
        "a = torch.tensor([1, 2, 3], dtype=torch.float)\n",
        "b = torch.tensor([10, 20, 30], dtype=torch.float)\n",
        "\n",
        "print(\"a:\", a)\n",
        "print(\"b:\", b)\n",
        "print(\"\\nElement-wise addition: a + b =\", a + b)\n",
        "print(\"Element-wise multiplication: a * b =\", a * b)\n",
        "\n",
        "# 3.2 Broadcasting example\n",
        "A = torch.randn(2, 3)\n",
        "B = torch.randn(3)  # shape [3]\n",
        "# B has fewer dimensions, but it can broadcast across the first dimension\n",
        "C = A + B\n",
        "print(\"\\nBroadcasted addition:\\nA shape:\", A.shape, \"\\nB shape:\", B.shape, \"\\nResult shape:\", C.shape)\n",
        "\n",
        "# 3.3 Matrix multiplication\n",
        "D = torch.randn(2, 3)\n",
        "E = torch.randn(3, 4)\n",
        "F = torch.matmul(D, E)  # or D @ E\n",
        "print(\"\\nMatrix multiplication result shape:\", F.shape)  # should be [2,4]\n"
      ],
      "metadata": {
        "colab": {
          "base_uri": "https://localhost:8080/"
        },
        "id": "lp8ZHVnQ5IxL",
        "outputId": "297e9f89-7f82-4ae3-dc99-72932b1a2c34"
      },
      "execution_count": null,
      "outputs": [
        {
          "output_type": "stream",
          "name": "stdout",
          "text": [
            "a: tensor([1., 2., 3.])\n",
            "b: tensor([10., 20., 30.])\n",
            "\n",
            "Element-wise addition: a + b = tensor([11., 22., 33.])\n",
            "Element-wise multiplication: a * b = tensor([10., 40., 90.])\n",
            "\n",
            "Broadcasted addition:\n",
            "A shape: torch.Size([2, 3]) \n",
            "B shape: torch.Size([3]) \n",
            "Result shape: torch.Size([2, 3])\n",
            "\n",
            "Matrix multiplication result shape: torch.Size([2, 4])\n"
          ]
        }
      ]
    },
    {
      "cell_type": "markdown",
      "source": [
        "**Broadcasting**:\n",
        "- When shapes differ, PyTorch attempts to align them from the **rightmost** dimension going left.\n",
        "- If one shape has 1 or is missing a dimension, it can be \"stretched\" to match the other shape.\n",
        "- If shapes are incompatible, you'll see a `RuntimeError: The size of tensor a (X) must match the size of tensor b (Y)`.\n",
        "\n",
        "---"
      ],
      "metadata": {
        "id": "PIx5OGhR5M87"
      }
    },
    {
      "cell_type": "markdown",
      "source": [
        "### Loops and decision trees"
      ],
      "metadata": {
        "id": "3OJO-EKiKDq_"
      }
    },
    {
      "cell_type": "markdown",
      "source": [
        "Suppose we want to do the same thing many times in a row. For example, suppose I have a string, and I want to seperate each character as elements in a list. I can do it with either a `for` loop or a `while` loop."
      ],
      "metadata": {
        "id": "YBsxd4KlKICe"
      }
    },
    {
      "cell_type": "code",
      "source": [
        "myString='flamingos'\n",
        "myList=[] #Start with an empty list\n",
        "\n",
        "#Using a for loop:\n",
        "for character in myString: #The for loop runs as many times as there are items in myString. Each iteration, character= the next item\n",
        "    myList.append(character)\n",
        "    print('We just added '+character+' to the list, which now reads '+str(myList))\n",
        "\n",
        "myList=[]\n",
        "#Using a while loop:\n",
        "i=0\n",
        "while i<len(myString): #The while loop runs until the condition is False.\n",
        "    myList.append(myString[i])\n",
        "    print('We just added '+myString[i]+' to the list, which now reads '+str(myList))\n",
        "    i+=1"
      ],
      "metadata": {
        "colab": {
          "base_uri": "https://localhost:8080/"
        },
        "id": "dxlkT8ZFKY7T",
        "outputId": "ead6545f-108b-40a1-b1fb-9a2e81ad9e55"
      },
      "execution_count": null,
      "outputs": [
        {
          "output_type": "stream",
          "name": "stdout",
          "text": [
            "We just added f to the list, which now reads ['f']\n",
            "We just added l to the list, which now reads ['f', 'l']\n",
            "We just added a to the list, which now reads ['f', 'l', 'a']\n",
            "We just added m to the list, which now reads ['f', 'l', 'a', 'm']\n",
            "We just added i to the list, which now reads ['f', 'l', 'a', 'm', 'i']\n",
            "We just added n to the list, which now reads ['f', 'l', 'a', 'm', 'i', 'n']\n",
            "We just added g to the list, which now reads ['f', 'l', 'a', 'm', 'i', 'n', 'g']\n",
            "We just added o to the list, which now reads ['f', 'l', 'a', 'm', 'i', 'n', 'g', 'o']\n",
            "We just added s to the list, which now reads ['f', 'l', 'a', 'm', 'i', 'n', 'g', 'o', 's']\n",
            "We just added f to the list, which now reads ['f']\n",
            "We just added l to the list, which now reads ['f', 'l']\n",
            "We just added a to the list, which now reads ['f', 'l', 'a']\n",
            "We just added m to the list, which now reads ['f', 'l', 'a', 'm']\n",
            "We just added i to the list, which now reads ['f', 'l', 'a', 'm', 'i']\n",
            "We just added n to the list, which now reads ['f', 'l', 'a', 'm', 'i', 'n']\n",
            "We just added g to the list, which now reads ['f', 'l', 'a', 'm', 'i', 'n', 'g']\n",
            "We just added o to the list, which now reads ['f', 'l', 'a', 'm', 'i', 'n', 'g', 'o']\n",
            "We just added s to the list, which now reads ['f', 'l', 'a', 'm', 'i', 'n', 'g', 'o', 's']\n"
          ]
        }
      ]
    },
    {
      "cell_type": "markdown",
      "source": [
        "An `if-else` statement checks if a condition is True. If it is, we do one thing. If not, we either do nothing, do something else, or check another condition."
      ],
      "metadata": {
        "id": "cArS3Nf2LA80"
      }
    },
    {
      "cell_type": "code",
      "source": [
        "text1='a'\n",
        "text2='b'\n",
        "if text1!='c':\n",
        "    print(\"text1=='a', not 'c', so this was true, and it executes this code\")\n",
        "\n",
        "if text1==text2:\n",
        "    print(\"text1!=text2, so it does not execute this code\")\n",
        "else:\n",
        "    print(\"instead, it executes this code\")\n",
        "\n",
        "if text1=='b':\n",
        "    print(\"text1!='b', so it does not execute this code\")\n",
        "elif text1=='a':\n",
        "    print(\"text1=='a', so it executes this code\")\n",
        "else:\n",
        "    print(\"One of the previous blocks executed, so it skips this code\")"
      ],
      "metadata": {
        "colab": {
          "base_uri": "https://localhost:8080/"
        },
        "id": "Kv-XTE1mLJQ2",
        "outputId": "54466c69-074e-4df3-8ae6-7cda494b4e18"
      },
      "execution_count": null,
      "outputs": [
        {
          "output_type": "stream",
          "name": "stdout",
          "text": [
            "text1='a', not 'c', so this was true, and it executes this code\n",
            "instead, it executes this code\n",
            "text1=='a', so it executes this code\n"
          ]
        }
      ]
    },
    {
      "cell_type": "markdown",
      "source": [
        "### Objects and classes\n"
      ],
      "metadata": {
        "id": "3pVgfkYLR5Sc"
      }
    },
    {
      "cell_type": "markdown",
      "source": [
        "Most things worth your time in python are object-oriented, based on classes and objects. These are ways of organizing large numbers of variables. Most of the things we use to define, train, and use our neural networks will be objects.\n",
        "\n",
        "A `class` is a particular set of properties which describe all objects of that class. You might have noticed that `type()` returns something that reads \"<class 'str'>\" or something like that. That's because `str`, `int`, etc. are actually all classes. When we define a variable, we create an instance of the class; `instanceName=className()`. The instance `instanceName` immediately has all the default `attributes` of the class, plus one or more unique attributes created when we define it that no other instances will have. It also has a range of `methods` which only memebers of the class can use. Often, a class is a subtype of a broader class.\n",
        "\n",
        "Variables associated with a class are called `attributes`, and are accessed with `[instanceName].[attributeName]`. Functions associated with a class are called `methods`, and are accessed with `[instanceName].[methodName]()`.\n",
        "\n",
        "For example, suppose we have a class called `car`. Every `car` has a number of default attributes, and default methods"
      ],
      "metadata": {
        "id": "NHQ5ei2yRFJG"
      }
    },
    {
      "cell_type": "code",
      "source": [
        "class car: #This is the name of the class\n",
        "\n",
        "    # Every class has an __init__() method. This method is automatically called when we create an instance of the class.\n",
        "    def __init__(self,make,model):\n",
        "        #When we call the car class, we need to provide it with two variables, so e.g. myCar=car(make='Fiat',model='500e').\n",
        "        # \"self\" is a special argument every method will have. If you call \"self\" in a method, it accesses the current value of any\n",
        "        # attribute, or calls any function, in the class.\n",
        "\n",
        "        #Here, we define attributes using the \"self\" keyword. If we do not define an attribute with \"self\", we will NOT be able\n",
        "        #to access it outside the current method\n",
        "        self.make=make\n",
        "        self.model=model\n",
        "        self.wheels=4 #We used \"self\" when defining \"wheels\". So, car.wheels exists.\n",
        "        roof=True #We did not use \"self\" when defining \"roof\". So, car.roof does not exist.\n",
        "        self.engine=True\n",
        "        #Yes, we're working in miles.\n",
        "        self.milesDriven=0\n",
        "\n",
        "    #Other methods will only be called when the user (or another method) calls them.\n",
        "    def drive(self,distance):\n",
        "        #We can modify attributes using \"self\". Notice milesDriven has NOT been defined within this method. However, since it was\n",
        "        #defined elsewhere in the object at some point before drive() is called (in our case, in the __init__() method), we can\n",
        "        #access it - and change it - as if it were a local variable. The new value will now be seen whenever car.milesDriven is called.\n",
        "        self.milesDriven+=distance\n",
        "        return\n",
        "\n",
        "    def get_milage(self,):\n",
        "        return self.milesDriven\n",
        "\n",
        "myCar=car(make='Fiat',model='500e') #myCar is now an instance of the car class. It is an object.\n",
        "print(type(myCar))\n",
        "print(myCar.make)\n",
        "print(myCar.model)\n",
        "print(myCar.wheels)\n",
        "print(myCar.engine)\n",
        "print(myCar.milesDriven)\n",
        "myCar.drive(100) #Once milesDriven has been updated in one method, it is permenantly changed\n",
        "print(myCar.milesDriven)\n",
        "\n",
        "yourCar=car(make='Ford',model='Focus') #Now I'm going to create another instance. yourCar is not myCar, but it is an object of class 'car'\n",
        "print(type(yourCar)) #It's still a car\n",
        "print(yourCar.make) #And has the same attributes, though some have different values\n",
        "print(yourCar.model)\n",
        "print(yourCar.wheels)\n",
        "print(yourCar.engine)\n",
        "print(yourCar.get_milage()) #Your car still has 0 miles driven\n",
        "print(myCar.get_milage()) #My car still has 100 miles driven"
      ],
      "metadata": {
        "id": "yjdx1qHg8vjr",
        "colab": {
          "base_uri": "https://localhost:8080/"
        },
        "outputId": "6ec2fbe7-314b-4b45-9df4-79ece34d045b"
      },
      "execution_count": null,
      "outputs": [
        {
          "output_type": "stream",
          "name": "stdout",
          "text": [
            "<class '__main__.car'>\n",
            "Fiat\n",
            "500e\n",
            "4\n",
            "True\n",
            "0\n",
            "100\n",
            "<class '__main__.car'>\n",
            "Ford\n",
            "Focus\n",
            "4\n",
            "True\n",
            "0\n",
            "100\n"
          ]
        }
      ]
    },
    {
      "cell_type": "markdown",
      "source": [
        "A class can inherit properties of its parent superclass. For example:"
      ],
      "metadata": {
        "id": "UMIS-eDEPGCG"
      }
    },
    {
      "cell_type": "code",
      "source": [
        "#All suvs are cars, but not all cars are suvs. suvs are a subclass of car\n",
        "class suv(car):\n",
        "    def __init__(self,make,model,fourWheelDrive=True):\n",
        "        #At this point, suv has no attributes\n",
        "        #By default, car.__init__() will not be called. super() refers to the super class, and super().__init__() calls the __init__() method of the superclass\n",
        "        super(suv, self).__init__(make,model)\n",
        "        #At this point, suv has the attributes make, model, wheels, engine, and milesDriven\n",
        "        self.fourWheelDrive=fourWheelDrive\n",
        "        #At this point, suv has the attributes make, model, wheels, engine, milesDriven, and fourWheelDrive. fourWheelDrive is an attribute which suvs have, but cars don't\n",
        "\n",
        "    def toggle_4WD(self):\n",
        "        self.fourWheelDrive=not self.fourWheelDrive #This method turns off and on four-wheel drive\n",
        "        return\n",
        "\n",
        "mySUV=suv(make='Ford',model='Bronco')\n",
        "print(type(mySUV))\n",
        "print(mySUV.make)\n",
        "print(mySUV.model)\n",
        "print(mySUV.wheels)\n",
        "print(mySUV.engine)\n",
        "mySUV.drive(200) #suv has inherited the drive() method from car\n",
        "print(mySUV.milesDriven)\n",
        "print(mySUV.fourWheelDrive)\n",
        "mySUV.toggle_4WD()\n",
        "print(mySUV.fourWheelDrive)"
      ],
      "metadata": {
        "colab": {
          "base_uri": "https://localhost:8080/"
        },
        "id": "ONJegi8JPOm1",
        "outputId": "f6905b30-a578-4120-cdd1-067d8d237d8e"
      },
      "execution_count": null,
      "outputs": [
        {
          "output_type": "stream",
          "name": "stdout",
          "text": [
            "<class '__main__.suv'>\n",
            "Ford\n",
            "Bronco\n",
            "4\n",
            "True\n",
            "200\n",
            "True\n",
            "False\n"
          ]
        }
      ]
    },
    {
      "cell_type": "markdown",
      "source": [
        "## Autodifferentiation\n",
        "\n"
      ],
      "metadata": {
        "id": "6-11KzqDxvbD"
      }
    },
    {
      "cell_type": "markdown",
      "source": [
        "Training a neural network, or any deep learning model, is a minimization problem. You have a set of parameters you can tune, usually the weight on each connection between neurons and their biases, and a loss function describing the difference between the current output of the model and the desired output. You want to change the model parameters to minimize this loss function. But how do we know whether a given parameter needs to be bigger or smaller?\n",
        "\n",
        "The answer is usually gradient descent optimization. We find the derivative of the loss function with respect to each parameter; this derivative points in the direction of steepest ascent, so that changing that parameter by an amount given by the derivative will produce the largest possible change in the loss function. We can therefore follow the derivative through the parameter space until we reach a minimum of the loss function. We'll learn more about this process, and why it often fails, in the next section. For now, let's focus on how we get our derivative.\n",
        "\n",
        "In theory, we could sit down with a pen and paper and manually write out the derivative of the loss function with respect to any weight or bias. The computer is built off of simple addition, subtraction, and multiplication, so all we need to to do is follow this chain of operations from our parameters to the loss function and do a chain rule. However, this would be absurdly complicated for even a tiny neural network due to the sheer number of basic operations involved.\n",
        "\n",
        "An alternative is numeric derivatives, where we change our parameters by a tiny amount and observe how the loss function changes; in the limit as the change goes to 0, this is the derivative. However, this requires us to change one parameter at a time, evaluating the whole network each time we do so, and we don't want to sit around until the heat death of the universe waiting for our perceptron to make one pass through the data.\n",
        "\n",
        "Autodifferentiation lets us efficiently compute our derivative by effectively automating the pen-and-paper strategy of threading a chain rule through all the basic operations which transform our parameters into our loss function. From the perspective of the user, it can often seem like magic. But autodifferentiation is a tricky process which is very easy to break if you don't understand what the computer is actually doing, especially if you're writting your own custom loss function, activation functions, etc.\n",
        "\n",
        "In this section, we will introudce autodifferentiation using pytorch as our autograd engine. We will:\n",
        "1. Manually implement forward-mode autodiff for a simple function $f(x_1,x_2) = x_1 \\cdot x_2 + \\sin(x_1)$.\n",
        "2. Manually implement reverse-mode autodiff.\n",
        "3. Demonstrate pytorch's built in reverse-mode autodifferentiation machinery.\n",
        "4. Conclude with an **exercise** for manually implementing reverse-mode autodiff for the **Himmelblau function**:\n",
        "   \\[\n",
        "   f(x,y) = (x^2 + y - 11)^2 + (x + y^2 - 7)^2\n",
        "   \\]\\\\\n",
        "   and compare that to PyTorch’s computed gradient.\n",
        "\n",
        "In the second section of the notebook, we will use autodifferentiation to perform gradient descent optimization. In the final section of the notebook, we will use it to train a perceptron."
      ],
      "metadata": {
        "id": "FxtqOmFG_4vt"
      }
    },
    {
      "cell_type": "markdown",
      "source": [
        "###1. Forward-Mode Autodifferentiation"
      ],
      "metadata": {
        "id": "BejnxRiTK1wE"
      }
    },
    {
      "cell_type": "markdown",
      "source": [
        "\n",
        "\n",
        "Let's consider a simple function $f(x_1,x_2)=x_1\\cdot x_2+\\sin(x_1)$. This is entirely equivalent to a neural network loss function, where $x_1$ and $x_2$ are our parameters and $f(x_1,x_2)$ is the loss. We want to find $df/dx_1$ and $df/dx_2$.\n",
        "\n",
        " When the computer evaluates this function, it does it one peice at a time; first it computes $sin(x_1)$, then $x_1*x_2$, then finally adds the results to get $f(x_1,x_2)$. We can represent this as a computational graph:  ![450px-ForwardAccumulationAutomaticDifferentiation.png](https://drive.google.com/uc?export=view&id=170Flj6w0OcJHSm50KqNxXMg-TOfARnqJ)\n",
        "\n",
        "Each $w_i$ is called a node of the graph. The graph flows upward. Nodes which feed into $w_i$ are $w_i$'s parents. Nodes which come out of $w_i$ are $w_i$'s children. Nodes with no parents are leaves. Nodes with no children are roots."
      ],
      "metadata": {
        "id": "d-wjfbf34h2f"
      }
    },
    {
      "cell_type": "code",
      "source": [
        "from math import sin\n",
        "x1 = 2  # Example value for x1\n",
        "x2 = 3  # Example value for x2\n",
        "w1 = x1 # Each step in the comutational tree is called a node. A node with no parents (other nodes below it) is a leaf. The leaf nodes are the parameters we want to take derivatives with respect to. w1 is a leaf node\n",
        "w2 = x2 # w2 is also a leaf node\n",
        "w3 = w1*w2 # To find f, we first need to multiply nodes w1 and w2 to get a new node w3\n",
        "w4 = sin(w1) # We also need to take the sine of node w1 to get node w4.\n",
        "w5 = w3+w4 # Now we can get node w5 by adding nodes w3 and w4. This is the root node, which is the parent of no one.\n",
        "f = w5 # Node w5 is f(x1,x2).\n",
        "print(f)"
      ],
      "metadata": {
        "colab": {
          "base_uri": "https://localhost:8080/"
        },
        "id": "Pp6Pvt3L9S-9",
        "outputId": "2233c9f2-c548-4a4d-b655-c24b4962bba9"
      },
      "execution_count": null,
      "outputs": [
        {
          "output_type": "stream",
          "name": "stdout",
          "text": [
            "6.909297426825682\n"
          ]
        }
      ]
    },
    {
      "cell_type": "markdown",
      "source": [
        "This might seem like a painfully slow way to implement such a simple function, but this is exactly what the computer sees if you implement `f=x1*x2+sin(x1)` all at once.\n",
        "\n",
        "Now let's find some derivatives. First, let's use forward-mode autodifferentiation. In forward-mode differentiation, we take the derivatives of f starting from leaf nodes and working up to the root node. At each node, we compute not only the value $w_i$ (called the primal), but also its derivative $\\dot{w}_i$ (called the tangent).\n",
        "\n",
        "But the derivative with respect to what? In the first forward sweep, we do derivatives with respect to $x_1$, so that $\\dot{v}=dv/dx_1$. In the second forward sweep, we do derivatives with respect to $x_2$, so that $\\dot{v}=dv/dx_2$. If we had more than two arguments, we would need to do one sweep per agrument.\n",
        "\n",
        "Graphically, this looks like this:\n",
        "\n",
        " ![450px-ForwardAccumulationAutomaticDifferentiation.png](https://drive.google.com/uc?export=view&id=1GncgwGLijOfYkYPnk5MmSv0cWRv9uaiW)\n",
        "\n",
        "To get our derivatives then, we do the first forward sweep:"
      ],
      "metadata": {
        "id": "P4DAZwpe_jr1"
      }
    },
    {
      "cell_type": "code",
      "source": [
        "from math import sin, cos\n",
        "\n",
        "x1 = 2 # Example value for x1\n",
        "x2 = 3 # Example value for x2\n",
        "\n",
        "w1 = x1 # The first leaf node. We do the derivative wrt this one on the first forward sweep\n",
        "dw1 = 1 # dw1/dx1 = dx1/dx1 = 1. Fixed derivative values on the leaf nodes are called \"seed\" values, and defines which leaf we are doing derivatives with respect to.\n",
        "\n",
        "w2 = x2 # The second leaf node. We will do derivatives wrt this one in the next sweep.\n",
        "dw2 = 0 # dw2/dx1 = dx2/dx1 = 0, another seed value\n",
        "\n",
        "w3 = w1*w2\n",
        "dw3 = dw1*w2 + w1*dw2 # A simple product rule\n",
        "\n",
        "w4 = sin(w1)\n",
        "dw4 = cos(w1)*dw1 # A simple derivative of sine\n",
        "\n",
        "w5 = w3+w4\n",
        "dw5 = dw3 + dw4 # A simple sum rule\n",
        "\n",
        "f = w5\n",
        "dfdx1 = dw5 # Now we have dfdx1!\n",
        "print(dfdx1)"
      ],
      "metadata": {
        "colab": {
          "base_uri": "https://localhost:8080/"
        },
        "id": "285M6eMP9stK",
        "outputId": "47f7b348-97d6-4406-ee6b-958defdc6f15"
      },
      "execution_count": null,
      "outputs": [
        {
          "output_type": "stream",
          "name": "stdout",
          "text": [
            "2.5838531634528574\n"
          ]
        }
      ]
    },
    {
      "cell_type": "markdown",
      "source": [
        "Now the second forward sweep:"
      ],
      "metadata": {
        "id": "-FC90SMADWw2"
      }
    },
    {
      "cell_type": "code",
      "source": [
        "x1 = 2  # Example value for x1\n",
        "x2 = 3  # Example value for x2\n",
        "\n",
        "w1 = x1 # The first leaf node. We did the derivative wrt this one on the first forward sweep\n",
        "dw1 = 0 # dw1/dx2 = dx1/dx2 = 0. Seed value.\n",
        "\n",
        "w2 = x2 # The second leaf node. We do the derivative wrt this one now.\n",
        "dw2 = 1 # dw2/dx2 = dx2/dx2 = 1. Seed value\n",
        "\n",
        "w3 = w1*w2\n",
        "dw3 = dw1*w2 + w1*dw2 # A simple product rule\n",
        "\n",
        "w4 = sin(w1)\n",
        "dw4 = cos(w1)*dw1 # A simple derivative of sine\n",
        "\n",
        "w5 = w3+w4\n",
        "dw5 = dw3 + dw4 # A simple sum rule\n",
        "\n",
        "f = w5\n",
        "dfdx2 = dw5 # Now we have dfdx2!\n",
        "print(dfdx2)"
      ],
      "metadata": {
        "colab": {
          "base_uri": "https://localhost:8080/"
        },
        "id": "xzB-upX4DaQm",
        "outputId": "8fb82f95-6ed7-4101-e10f-d0ec7522c3ff"
      },
      "execution_count": null,
      "outputs": [
        {
          "output_type": "stream",
          "name": "stdout",
          "text": [
            "2.0\n"
          ]
        }
      ]
    },
    {
      "cell_type": "markdown",
      "source": [
        "When you call `torch.autograd.grad()` in forward mode, the computer performs exactly this analysis under the hood.\n",
        "\n",
        "Have you noticed a problem with forward-mode autodiff? We need to choose one leaf to use as our differentiation variable at a time, so we need to do one sweep for every leaf/parameter in our model - highly inefficient for scalar-valued loss functions.\n",
        "\n"
      ],
      "metadata": {
        "id": "lLau5xWjB5xP"
      }
    },
    {
      "cell_type": "markdown",
      "source": [
        "###2. Reverse-Mode Autodifferentiation"
      ],
      "metadata": {
        "id": "vJd7WAPYKdp0"
      }
    },
    {
      "cell_type": "markdown",
      "source": [
        "\n",
        "Luckily, there's a better way: We can start from the root, at the top of the tree, and work down to the leaves to get the derivative, thereby finding both $df/dx_1$ and $df/dx_2$ in a single backwards sweep. This is called backward-mode autodifferentiation, and is what you will almost always use when training deep learning models.\n",
        "\n",
        "Graphically, this process looks like this:\n",
        "\n",
        " ![450px-ForwardAccumulationAutomaticDifferentiation.png](https://drive.google.com/uc?export=view&id=1dlN6Z32DHVPW0Iv_RVICtmC_i_Prh_ZG)\n",
        "\n",
        "Rather than finding the derivative at each node, we instead find the adjoint $\\bar{w}_i=df/dw_i$, and chain them together in a process called backgropagation.\n",
        "\n",
        "Let's see how it works"
      ],
      "metadata": {
        "id": "OxPK-AC3KiDY"
      }
    },
    {
      "cell_type": "code",
      "source": [
        "import math\n",
        "\n",
        "class Node: # To build our own reverse-mode derivative, we need to define a Node class for our computational tree.\n",
        "    \"\"\"\n",
        "    A node in the computational graph for reverse-mode autodiff.\n",
        "    'value' is the numeric value at this node.\n",
        "    'grad' is the gradient of the final output (f(x1,x2)) w.r.t. this node.\n",
        "    'op' is a function that, given this node's gradient, will backprop to its parent nodes.\n",
        "    'parents' is a list of parent Nodes.\n",
        "    \"\"\"\n",
        "    def __init__(self, value, parents=None, op=None):\n",
        "        self.value = value\n",
        "        self.grad = 0.0  # Will hold derivative of output w.r.t. this node. It will be updated when backward() is called\n",
        "        self.parents = parents if parents else [] # Parent nodes are nodes immediately above this one in the computational graph, whose data flows into this node\n",
        "        self.op = op  # A backprop function\n",
        "\n",
        "    def backward(self, grad_output=1.0):\n",
        "        \"\"\"\n",
        "        Recursively apply chain rule to accumulate gradients in parents.\n",
        "        \"\"\"\n",
        "        # Accumulate gradient from children\n",
        "        self.grad += grad_output\n",
        "\n",
        "        # Propagate to parents\n",
        "        if self.op is not None:\n",
        "            self.op(grad_output)\n",
        "\n",
        "def multiply_node(a, b):\n",
        "    \"\"\"\n",
        "    a * b\n",
        "    \"\"\"\n",
        "    value = a.value * b.value\n",
        "\n",
        "    def _op(grad_output):\n",
        "        # d/d(a) of a*b = b.value\n",
        "        # d/d(b) of a*b = a.value\n",
        "        a.backward(grad_output * b.value)\n",
        "        b.backward(grad_output * a.value)\n",
        "\n",
        "    return Node(value, parents=[a, b], op=_op)\n",
        "\n",
        "def add_node(a, b):\n",
        "    \"\"\"\n",
        "    a + b\n",
        "    \"\"\"\n",
        "    value = a.value + b.value\n",
        "\n",
        "    def _op(grad_output):\n",
        "        # d/d(a) of (a+b) = 1\n",
        "        # d/d(b) of (a+b) = 1\n",
        "        a.backward(grad_output)\n",
        "        b.backward(grad_output)\n",
        "\n",
        "    return Node(value, parents=[a, b], op=_op)\n",
        "\n",
        "def sin_node(a):\n",
        "    \"\"\"\n",
        "    sin(a)\n",
        "    \"\"\"\n",
        "    value = math.sin(a.value)\n",
        "\n",
        "    def _op(grad_output):\n",
        "        # derivative of sin(a) w.r.t a = cos(a)\n",
        "        a.backward(grad_output * math.cos(a.value))\n",
        "\n",
        "    return Node(value, parents=[a], op=_op)\n",
        "\n",
        "\n",
        "def f_reverse_mode(x_val, y_val):\n",
        "    \"\"\"\n",
        "    Build computation graph for f(x, y) = x*y + sin(x),\n",
        "    then run backward pass to get gradients.\n",
        "    Returns partial derivatives df/dx, df/dy.\n",
        "    \"\"\"\n",
        "    # Create leaf nodes\n",
        "    w1 = Node(x_val)\n",
        "    w2 = Node(y_val)\n",
        "\n",
        "    # Forward pass: build the graph\n",
        "    w3 = multiply_node(w1,w2)    # x * y\n",
        "    w4 = sin_node(w1)     # sin(x)\n",
        "    w5 = add_node(w3,w4)      # x*y + sin(x)\n",
        "\n",
        "    # Backward pass from f\n",
        "    w5.backward(1.0)        # d(f)/d(f)=1; triggers chain rule\n",
        "\n",
        "    # The gradients w.r.t x and y are stored in w1.grad, w2.grad\n",
        "    return w1.grad, w2.grad\n",
        "\n",
        "# Test the reverse-mode function\n",
        "x1_val, x2_val = 2.0, 3.0\n",
        "df_dx1, df_dx2 = f_reverse_mode(x1_val, x2_val)\n",
        "\n",
        "print(f\"Reverse-mode: df/dx1 = {df_dx1}, df/dx2 = {df_dx2}\")"
      ],
      "metadata": {
        "colab": {
          "base_uri": "https://localhost:8080/"
        },
        "id": "I_15w2IIErgF",
        "outputId": "8a91ee6d-b5cc-4357-8844-1b8880e7f363"
      },
      "execution_count": null,
      "outputs": [
        {
          "output_type": "stream",
          "name": "stdout",
          "text": [
            "Reverse-mode: df/dx1 = 2.5838531634528574, df/dx2 = 2.0\n"
          ]
        }
      ]
    },
    {
      "cell_type": "markdown",
      "source": [
        "Sure enough, it is the same as the forward-mode derivatives, but we only had to do one sweep!"
      ],
      "metadata": {
        "id": "FdPjKSYQIROi"
      }
    },
    {
      "cell_type": "markdown",
      "source": [
        "### 3. Pytorch's autodifferentiation"
      ],
      "metadata": {
        "id": "3ZqLYzzqKmzh"
      }
    },
    {
      "cell_type": "markdown",
      "source": [
        " We can confirm it is the same as `torch.tensor.backward`'s output, whcih implements exactly this kind of reverse-mode operation:"
      ],
      "metadata": {
        "id": "dqsDuxxPKs7h"
      }
    },
    {
      "cell_type": "code",
      "source": [
        "import torch\n",
        "\n",
        "# Create x and y as PyTorch tensors with `requires_grad=True` to track operations\n",
        "x1 = torch.tensor(2.0, requires_grad=True)  # Example value for x\n",
        "x2 = torch.tensor(3.0, requires_grad=True)  # Example value for y\n",
        "\n",
        "# Define the function f(x1, x2)\n",
        "f = x1 * x2 + torch.sin(x1)\n",
        "\n",
        "# Let PyTorch compute the gradients\n",
        "f.backward()  # This computes df/dx1 and df/dx2\n",
        "\n",
        "print(\"Value of f:\", f.item())\n",
        "print(\"df/dx1:\", x1.grad.item())\n",
        "print(\"df/dx2:\", x2.grad.item())"
      ],
      "metadata": {
        "colab": {
          "base_uri": "https://localhost:8080/"
        },
        "id": "M-q5EWGmE2Dj",
        "outputId": "07c6a04e-3b00-4c41-e3f0-dd4575ce80e0"
      },
      "execution_count": null,
      "outputs": [
        {
          "output_type": "stream",
          "name": "stdout",
          "text": [
            "Value of f: 6.909297466278076\n",
            "df/dx1: 2.583853244781494\n",
            "df/dx2: 2.0\n"
          ]
        }
      ]
    },
    {
      "cell_type": "markdown",
      "source": [
        "### 4. Exercise: Himmelblau gradient"
      ],
      "metadata": {
        "id": "tdwoch2rKuwU"
      }
    },
    {
      "cell_type": "markdown",
      "source": [
        "Makes sense? Prove it! Deliver me the gradient of the Himmelblau function\n",
        "$f(x_1,x_2)=(x_1^2+x_2-11)^2+(x_1+x_2^2-7)^2$. Here's how to do it with torch's autograd:"
      ],
      "metadata": {
        "id": "pUhvYw8sECqb"
      }
    },
    {
      "cell_type": "code",
      "source": [
        "import torch\n",
        "\n",
        "def himmelblau_torch(x1_val, x2_val):\n",
        "    x1_torch = torch.tensor(x1_val, requires_grad=True)\n",
        "    x2_torch = torch.tensor(x2_val, requires_grad=True)\n",
        "\n",
        "    # Define the function\n",
        "    f_torch = (x1_torch**2 + x2_torch - 11)**2 + (x1_torch + x2_torch**2 - 7)**2\n",
        "\n",
        "    # Compute gradients via backward()\n",
        "    f_torch.backward()\n",
        "\n",
        "    return f_torch.item(), x1_torch.grad.item(), x2_torch.grad.item()\n",
        "\n",
        "# Example usage:\n",
        "x1_val, x2_val = 1.0, 2.0\n",
        "f_val, dx1_torch, dx2_torch = himmelblau_torch(x1_val, x2_val)\n",
        "print(\"PyTorch Himmelblau value =\", f_val)\n",
        "print(\"PyTorch df/dx1 =\", dx1_torch, \", df/dx2 =\", dx2_torch)"
      ],
      "metadata": {
        "colab": {
          "base_uri": "https://localhost:8080/"
        },
        "id": "UMLe6UmIJ-v7",
        "outputId": "d6f9b55d-7f8f-44c1-87d1-ac5156d84322"
      },
      "execution_count": null,
      "outputs": [
        {
          "output_type": "stream",
          "name": "stdout",
          "text": [
            "PyTorch Himmelblau value = 68.0\n",
            "PyTorch df/dx1 = -36.0 , df/dx2 = -32.0\n"
          ]
        }
      ]
    },
    {
      "cell_type": "markdown",
      "source": [
        "Now you do it manually with your own reverse-mode tree:"
      ],
      "metadata": {
        "id": "_xL18LmEKAUJ"
      }
    },
    {
      "cell_type": "code",
      "source": [
        "def himmelblau_manual(x1_val, x2_val):\n",
        "    # 1) Create leaf nodes:\n",
        "    # x1 = Node( ... )\n",
        "    # x2 = Node( ... )\n",
        "\n",
        "    # 2) Build the graph for:\n",
        "    #   a = x1^2 + x2 - 11\n",
        "    #   b = x1 + x2^2 - 7\n",
        "    #   f = a^2 + b^2\n",
        "\n",
        "    #    - Use multiply_node(a, a), add_node(...), etc. from the previous code\n",
        "    #    - Or implement any extra function you need (like a \"square\" node or \"power\" node)\n",
        "\n",
        "    # 3) Call f.backward(1.0)\n",
        "\n",
        "    # 4) Return (f.value, x1.grad, x2.grad)\n",
        "    ...\n",
        "\n",
        "# Test and compare with PyTorch:\n",
        "x1_val, x2_val = 1.0, 2.0\n",
        "\n",
        "# -- Uncomment after filling the function above --\n",
        "# f_manual, dx_manual, dy_manual = himmelblau_manual(x_val, y_val)\n",
        "# f_torch, dx_torch, dy_torch = himmelblau_torch(x_val, y_val)\n",
        "#\n",
        "# print(\"Manual Reverse-Mode Himmelblau:\")\n",
        "# print(\"f =\", f_manual, \"df/dx =\", dx_manual, \"df/dy =\", dy_manual)\n",
        "# print(\"PyTorch Himmelblau:\")\n",
        "# print(\"f =\", f_torch, \"df/dx =\", dx_torch, \"df/dy =\", dy_torch)"
      ],
      "metadata": {
        "id": "1PDR712qJnMh"
      },
      "execution_count": null,
      "outputs": []
    },
    {
      "cell_type": "markdown",
      "source": [
        "## Gradient Descent Optimization"
      ],
      "metadata": {
        "id": "hb12ciy8F_nB"
      }
    },
    {
      "cell_type": "markdown",
      "source": [
        "As mentioned above, training a deep learning model is a minimization problem. We have a function (the loss $L()$) which is an explicit function of the model predictions $e$ and the targets from the training data $t$. For example, if we had a DNN intended to reproduce an image, our loss function might be $L(e,t)=\\sum_i|e_i-t_i|^2$ where each $e_i$ is the predicted value of pixel $i$ and $t_i$ is the true value at pixel $i$. If $L=0$, then the prediction perfectly matches reality.\n",
        "\n",
        "Our network has a large number of variables we can tune, for example the weights and biases of hidden neuron layers (more on actual network architecture and what these mean in the next section). We can collect all these parameters in a vector $\\phi$. $L$ is an implicit function of $\\phi$, because the predictions are themselves a function of $\\phi$; we actually have $L(e(\\phi),t)$. Training the network thus requires updating $\\phi$ to minimize $L$, and we do this using the gradient $dL/d\\phi$.\n",
        "\n",
        " The actual algorithm used to map $dL/d\\phi$ to an update $\\Delta\\phi$ is called a gradient descent optimizer. In this section, we will\n",
        "\n",
        "\n",
        "1.   Create and use our own custom gradient descent algorithm to perform linear regression\n",
        "2.   Create an optimization loop using `pytorch.optim`'s API.\n",
        "3.   Apply more advanced optimizers such as Adam used in actual DNN training to the optimization problem.\n",
        "4.   Conclude with an exercise in which you will find the minimum of the Himmelblau function.\n",
        "\n",
        "In the final section of this notebook, we will use gradient descent optimization to train a perceptron.\n",
        "\n"
      ],
      "metadata": {
        "id": "pFBKjCGy8cZJ"
      }
    },
    {
      "cell_type": "markdown",
      "source": [
        "### 1. A custom gradient descent optimizer."
      ],
      "metadata": {
        "id": "wDmyWrsGDtdZ"
      }
    },
    {
      "cell_type": "markdown",
      "source": [
        "In this section, we will attempt to find correllations between Pokemon attack and defense stats. Here is the data, which I've manually entered to avoid any issues with accessing .csv files:"
      ],
      "metadata": {
        "id": "zcHfXrJ6D5zH"
      }
    },
    {
      "cell_type": "code",
      "source": [
        "import pandas as pd\n",
        "import numpy as np\n",
        "df = pd.DataFrame(data=np.array([[30.,35],[52,43],[49,49],[64,58],[62,63],[48,65],[104,78],[63,80],[103,120],[100,123]]),index=['caterpie','charmander','bulbasaur','charmeleon','ivysaur','squirtle','charizard','wartortle','blastoise','venusaur'],columns=['attack','defense'])\n",
        "x = torch.tensor(df['attack'])\n",
        "xScaled = (x-torch.mean(x))/torch.std(x) # It is useful to scale x before doing linear regression, normalizing it by its eman and standard deviation\n",
        "y = torch.tensor(df['defense'])"
      ],
      "metadata": {
        "id": "FljqQg3hFZuT"
      },
      "execution_count": null,
      "outputs": []
    },
    {
      "cell_type": "markdown",
      "source": [
        "Make a plot of the x/y data:"
      ],
      "metadata": {
        "id": "2j5-girgGym8"
      }
    },
    {
      "cell_type": "code",
      "source": [
        "# Your code here\n",
        "..."
      ],
      "metadata": {
        "colab": {
          "base_uri": "https://localhost:8080/"
        },
        "id": "Yk4bP4G5G0n5",
        "outputId": "f1ccac80-8842-435d-b4e2-438e6042c8e2"
      },
      "execution_count": null,
      "outputs": [
        {
          "output_type": "execute_result",
          "data": {
            "text/plain": [
              "Ellipsis"
            ]
          },
          "metadata": {},
          "execution_count": 56
        }
      ]
    },
    {
      "cell_type": "markdown",
      "source": [
        "We want to do linear regression on attack vs defense data, finding the best-fit line $y=mx+b$.\n",
        "\n",
        "Our loss function will be the mean squared error. Our model has two parameters, the slope and intercept, so our loss function will be\n",
        "$L(m,b)=\\frac{1}{n}\\sum_{i=1}^n((mx_i+b)-y_i)^2$\n",
        "\n",
        "Implement this loss function. Make sure it is torch autograd-traceable"
      ],
      "metadata": {
        "id": "t0A69PLzHJM4"
      }
    },
    {
      "cell_type": "code",
      "source": [
        "# Your code here\n",
        "def MSELoss(phi):\n",
        "    \"\"\"\n",
        "    phi=a two-element pytorch tensor; the first element is m, the second is b\n",
        "    Should return the MSE loss using the xScaled and y tensors defined above.\n",
        "    \"\"\"\n",
        "    L=...\n",
        "    return L\n"
      ],
      "metadata": {
        "id": "5w0t-D6MHFCF"
      },
      "execution_count": null,
      "outputs": []
    },
    {
      "cell_type": "markdown",
      "source": [
        "Now, we want to create a gradient descent optimization loop. We are going to use a very simple update scheme: $\\Delta\\phi=-\\alpha\\frac{dL}{d\\phi}$, where the user simple chooses a constant factor $\\alpha$. We will start with an initial guess $\\phi_0$, and then update $\\phi_i=\\phi_{i-1}+\\Delta\\phi_{i-1}$ until we reach a maximum number of iterations.\n",
        "\n",
        "First, write a function which performs a single update step:"
      ],
      "metadata": {
        "id": "ivWtpK5uLI2n"
      }
    },
    {
      "cell_type": "code",
      "source": [
        "# Your code here\n",
        "def gradient_descent_update(phi,alpha):\n",
        "    \"\"\"\n",
        "    Performs a single update phi=phi-alpha*dL/dphi\n",
        "\n",
        "    Arguments:\n",
        "    phi: tensor. First element is slope m, second is intercept b\n",
        "    alpha: float. The learning rate of this step.\n",
        "\n",
        "    Returns:\n",
        "    L_value: float. The current value of the loss function\n",
        "    phi: tensor. Updated parameters\n",
        "    \"\"\"\n",
        "    #Do a forward pass to get L_value\n",
        "    L_value =...\n",
        "    #Then do a backward pass to populate phi's grad attribute.\n",
        "    ...\n",
        "    #Update phi with the gradient and learning rate\n",
        "    updated_phi =...\n",
        "\n",
        "    # Pytorch is a bit twitchy with autograd on tesors which have in the past been modifed with their own gradient.\n",
        "    # Here, I detach the updated phi to erase its gradient info, then set reguires_grad back to True before returning it.\n",
        "    # Don't worry about this bit too much.\n",
        "    updated_phi = updated_phi.detach()\n",
        "    updated_phi.requires_grad = True\n",
        "    return L_value, updated_phi\n"
      ],
      "metadata": {
        "id": "xUfrhqxXL5AD"
      },
      "execution_count": null,
      "outputs": []
    },
    {
      "cell_type": "markdown",
      "source": [
        "Excellent! Now, define a function which does this process many times to find the minimum"
      ],
      "metadata": {
        "id": "WQHUg2hBc_T6"
      }
    },
    {
      "cell_type": "code",
      "source": [
        "def gradient_descent(phi0,alpha,steps):\n",
        "    \"\"\"\n",
        "    Performs a number of updates and returns the final parameters and loss function value.\n",
        "\n",
        "    Arguments:\n",
        "    phi0: tensor. The initial value of the (scaled) slope and intercept\n",
        "    alpha: scalar. The learning rate\n",
        "    steps: int. The number of updates to perform\n",
        "\n",
        "    Returns:\n",
        "    final_L: float. The final loss function value\n",
        "    phi: tensor. The final parameters\n",
        "    \"\"\"\n",
        "    phi=phi0\n",
        "    #Do a for loop over the number of steps, calling gradient_descent_update() each time to evolve phi\n",
        "\n",
        "    for ...\n",
        "    return Lv,phi.detach()\n",
        "\n",
        "# These are good initial points for the optimization\n",
        "phi0 = torch.tensor([23,70.0],requires_grad=True)\n",
        "\n",
        "final_L, final_phi  =gradient_descent(phi0,0.1,30)\n",
        "\n",
        "print(f\"Final loss function: {final_L:.4f}, final (scaled) slope: {final_phi[0]:.4f}, final (scaled) intercept: {final_phi[1]:.4f}\")"
      ],
      "metadata": {
        "colab": {
          "base_uri": "https://localhost:8080/"
        },
        "id": "bZRLT-SAdoDL",
        "outputId": "2d19a38f-f873-48d9-d6c8-73d79eed8a4d"
      },
      "execution_count": null,
      "outputs": [
        {
          "output_type": "stream",
          "name": "stdout",
          "text": [
            "Final loss function: 206.2657, final (scaled) slope: 25.8206, final (scaled) intercept: 71.3983\n"
          ]
        }
      ]
    },
    {
      "cell_type": "markdown",
      "source": [
        "Now plot your line on top of the data. Remember that we scaled x when we found slope and intercept, so unscale the slope/intercept before plotting the line!"
      ],
      "metadata": {
        "id": "ltbGlSzbf6_L"
      }
    },
    {
      "cell_type": "code",
      "source": [
        "# Your code here\n",
        "..."
      ],
      "metadata": {
        "colab": {
          "base_uri": "https://localhost:8080/",
          "height": 430
        },
        "id": "hkU_1MnngGPi",
        "outputId": "f7a80b94-9ae7-49f9-e0bf-059031a6658c"
      },
      "execution_count": null,
      "outputs": [
        {
          "output_type": "display_data",
          "data": {
            "text/plain": [
              "<Figure size 640x480 with 1 Axes>"
            ],
            "image/png": "[encoded data removed]"
          },
          "metadata": {}
        }
      ]
    },
    {
      "cell_type": "markdown",
      "source": [
        "What actually happened during the descent? Below is code which will plot the path the GD algorithm takes through the function's space. The background is a contour plot of `MSELoss`, and you can see the updates as points gradually getting more red."
      ],
      "metadata": {
        "id": "6FSyi1QHNJFo"
      }
    },
    {
      "cell_type": "code",
      "source": [
        "def plot_descent_path(phis):\n",
        "    phis = torch.vstack(phis).detach()\n",
        "    phis_np = phis.numpy()\n",
        "    min_vs = torch.min(phis,dim=0)[0].numpy()\n",
        "    max_vs = torch.max(phis,dim=0)[0].numpy()\n",
        "    dvm,dvb = max_vs[0]-min_vs[0],max_vs[1]-min_vs[1]\n",
        "    xPlot,yPlot = np.linspace(min_vs[0]-dvm,max_vs[0]+dvm,200),np.linspace(min_vs[1]-dvb,max_vs[1]+dvb,200)\n",
        "    X,Y = np.meshgrid(xPlot,yPlot)\n",
        "    Xr,Yr = X.ravel(),Y.ravel()\n",
        "    F = np.reshape(np.array([MSELoss(torch.tensor([xv,yv],requires_grad=True)).item() for xv,yv in zip(Xr,Yr)]),(200,200))\n",
        "    fig,ax = plt.subplots(nrows=1,ncols=1,figsize=(6,6))\n",
        "    ax.contourf(X,Y,F,levels=100)\n",
        "    phis_np = phis.numpy()\n",
        "\n",
        "    # 1) Plot each point as a scatter\n",
        "    ax.scatter(phis_np[:, 0], phis_np[:, 1], cmap=\"cool\",c=list(range(len(phis_np))), s=40, zorder=3)\n",
        "\n",
        "    # 2) Draw arrows from phis[i] to phis[i+1]\n",
        "    for i in range(len(phis_np) - 1):\n",
        "        x_start, y_start = phis_np[i]\n",
        "        \\\n",
        "        x_end, y_end     = phis_np[i+1]\n",
        "\n",
        "        dx = x_end - x_start\n",
        "        dy = y_end - y_start\n",
        "\n",
        "        #ax.arrow(x_start, y_start, dx, dy,\n",
        "        #        length_includes_head=True,  # so the arrow ends exactly at (x_end,y_end)\n",
        "        #        head_width=0.01,            # width of the arrow head\n",
        "        #        head_length=0.015,          # length of the arrow head\n",
        "        #        fc='red',                  # face color of the arrow head\n",
        "        #        ec='red')                  # edge color of the arrow head\n",
        "    ax.set_xlabel('Scaled Slope')\n",
        "    ax.set_ylabel('Scaled Intercept')\n",
        "    plt.show()\n",
        "    return\n",
        "\n",
        "def plot_gd(gradient_descent_update,num_steps,phi0=torch.tensor([23,70.0],requires_grad=True)):\n",
        "    phi = phi0\n",
        "    Lvs = []\n",
        "    phis = [phi.clone()]\n",
        "    for step in range(num_steps):\n",
        "        Lv,phi = gradient_descent_update(phi,MSELoss,0.1)\n",
        "        Lvs.append(float(Lv))\n",
        "        phis.append(phi.clone())\n",
        "    plot_descent_path(phis)\n",
        "plot_gd(gradient_descent_update,10)\n",
        "\n"
      ],
      "metadata": {
        "colab": {
          "base_uri": "https://localhost:8080/",
          "height": 542
        },
        "id": "LxK00FVUNOOb",
        "outputId": "72ce1c55-63ba-45d5-8f07-1381f0661e97"
      },
      "execution_count": null,
      "outputs": [
        {
          "output_type": "display_data",
          "data": {
            "text/plain": [
              "<Figure size 600x600 with 1 Axes>"
            ],
            "image/png": "[encoded data removed]"
          },
          "metadata": {}
        }
      ]
    },
    {
      "cell_type": "markdown",
      "source": [
        "### 2. Pytorch Optimization"
      ],
      "metadata": {
        "id": "UTszphD8hx51"
      }
    },
    {
      "cell_type": "markdown",
      "source": [
        "Now, let's use the professional optimizers in `pytorch.optim`. This works a lot like our algorithm, except the optimizer will handle the updates internally; we just need to tell it when to update."
      ],
      "metadata": {
        "id": "AkuYlFWXRZmh"
      }
    },
    {
      "cell_type": "code",
      "source": [
        "import torch\n",
        "# torchOptimizer function\n",
        "#   phi0   = initial value for phi (2-element tensor)\n",
        "#   lr     = learning rate\n",
        "#   steps  = number of gradient-descent steps to perform\n",
        "#\n",
        "# This function returns the optimized phi (2-element tensor)\n",
        "# ----------------------------------------------------------\n",
        "def torchOptimizer(phi0, lr, steps,lossFunc=MSELoss,optimizer=torch.optim.SGD,plot_descent=False,**hyperparameters):\n",
        "    \"\"\"\n",
        "    Minimizes MSELoss(phi) = mean((phi - [1,2])^2) w.r.t phi\n",
        "    using basic SGD (no momentum, weight decay, etc.).\n",
        "\n",
        "    Arguments:\n",
        "    phi0 : tensor. Initial value for phi.\n",
        "    lr : float. Learning rate (step size).\n",
        "    steps : int. Number of update steps for gradient descent.\n",
        "    lossFunc : callable. A loss function, accepting phi as the argument and returning a scalar loss.\n",
        "    optimizer: callable. An optimization algorithm from https://pytorch.org/docs/stable/optim.html#algorithms\n",
        "    plot_descent: Bool. If True, generates a plot of the path the optimizer took through the loss function space.\n",
        "    hyperparameters: Keyword arguments to be passed to the optimizer.\n",
        "\n",
        "    Returns\n",
        "    -------\n",
        "    phi : tensor. The optimized phi (2-element tensor) after 'steps' iterations.\n",
        "    \"\"\"\n",
        "\n",
        "    # 1. Make a copy of phi0 to avoid changing it outside the function\n",
        "    #    and ensure it has 'requires_grad=True' so PyTorch tracks gradients.\n",
        "    phi = phi0.clone().detach().requires_grad_(True)\n",
        "\n",
        "    # Create an SGD optimizer from torch.optim\n",
        "    # We pass 'phi' as a list since the optimizer needs an iterable of params.\n",
        "    # This tells the optimizer to update phi every time we call optimizer.step().\n",
        "    # SGD stands for \"Stochastic Gradient Descent\", which is exactly our algorithm.\n",
        "    # The \"stochastic\" bit only applies when doing batch training on a deep learning model.\n",
        "    optimizer = optimizer([phi], lr=lr,**hyperparameters)\n",
        "    phis = [phi.clone().detach(),]\n",
        "    # 2. Optimization loop\n",
        "    for step_i in range(steps):\n",
        "\n",
        "        # a) Zero the gradients from any previous iteration\n",
        "        optimizer.zero_grad()\n",
        "\n",
        "        # b) Compute the loss for the current phi\n",
        "        loss_value = lossFunc(phi)\n",
        "\n",
        "        # c) Backpropagate: compute gradients of loss w.r.t. phi\n",
        "        loss_value.backward()\n",
        "\n",
        "        # d) Update phi using the optimizer\n",
        "        optimizer.step()\n",
        "        phis.append(phi.clone().detach())\n",
        "        # (Optional) Print progress\n",
        "        # print(f\"Step {step_i+1}/{steps}, phi={phi.data.numpy()}, loss={loss_value.item():.4f}\")\n",
        "\n",
        "    if plot_descent:\n",
        "        plot_descent_path(phis)\n",
        "    # 3. Return the final learned parameter\n",
        "    return phi\n",
        "\n",
        "# ----------------------------------------------------------\n",
        "# Example usage:\n",
        "#   Start from our same phi0\n",
        "#   do 10 steps of SGD with learning rate = 0.1\n",
        "# ----------------------------------------------------------\n",
        "phi_init = torch.tensor([23,70.0],requires_grad=True)\n",
        "\n",
        "learned_phi = torchOptimizer(phi_init, lr=0.1, steps=10,plot_descent=True)\n",
        "\n",
        "print(\"Optimized phi:\", learned_phi.data.numpy())\n",
        "print(\"Final loss:\", MSELoss(learned_phi).item())"
      ],
      "metadata": {
        "colab": {
          "base_uri": "https://localhost:8080/"
        },
        "id": "j3qGYP4RRmru",
        "outputId": "947f07fb-0bea-4a63-ebce-da6f3bc1ae31"
      },
      "execution_count": null,
      "outputs": [
        {
          "output_type": "display_data",
          "data": {
            "text/plain": [
              "<Figure size 600x600 with 1 Axes>"
            ],
            "image/png": "[encoded data removed]"
          },
          "metadata": {}
        },
        {
          "output_type": "stream",
          "name": "stdout",
          "text": [
            "Optimized phi: [25.439249 71.24968 ]\n",
            "Final loss: 206.42419384382944\n"
          ]
        }
      ]
    },
    {
      "cell_type": "markdown",
      "source": [
        "We ended up in the same place! Not surprising, since that's the minimum and it's the same algorithm."
      ],
      "metadata": {
        "id": "Ua7m3biFjetL"
      }
    },
    {
      "cell_type": "markdown",
      "source": [
        "### 3. Advanced Gradient Descent Algorithms"
      ],
      "metadata": {
        "id": "dD3koRAgjvjZ"
      }
    },
    {
      "cell_type": "markdown",
      "source": [
        "Basic gradient descent is actually pretty bad. It suffers from several problems:\n",
        "\n",
        "\n",
        "*   If we choose the learning rate to be too small, we'll be waiting forever to find the minimum\n",
        "*   If we choose the learning rate to be too large, the algorith will \"circle the drain\", just orbiting the minimum without ever reaching it\n",
        "*   If we have more than one local minimum (hint: we always do) GD will typically just race towards the closest one without looking around for deeper (and therefore better) local minima.\n",
        "\n",
        "There are a wide variety of algorithms which have been designed to address (but, and I cannot stress this enough, do *not* fully solve) these problems. These are the algorithms which trained DALL-E and GPT and all the fancy models like them. Torch implements a large number, which you can read about here: https://pytorch.org/docs/stable/optim.html#algorithms\n",
        "\n",
        "Among them, Adam is perhapse the most famous. It implements a concept called momentum, in which the algorithm acts like a ball falling down a hill, picking up speed (e.g. increasing the learning rate) when it's going down a steep bit, and slowing when it starts going uphill. This dynamic learning rate is designed to be small when we get close to the minimum, and large when we're far away and want to get closer. It can even fling itself out of shallow local minima to find deeper ones nearby.\n",
        "\n",
        "You'll notice `torchOptimizer()` has been coded to let you experiment with different algorithms. For example, let's swap out SGD with Adam, and let's change the default values of the hyperparameters (numbers such as the learning rate which the user chooses that affect the optimization algorithm) $\\beta_1$ and $\\beta_2$:\n",
        "\n"
      ],
      "metadata": {
        "id": "9y7g1Cffl60-"
      }
    },
    {
      "cell_type": "code",
      "source": [
        "learned_phi = torchOptimizer(phi_init, lr=1, steps=20,optimizer=torch.optim.Adam,plot_descent=True, betas=(0.89, 0.99))\n",
        "\n",
        "print(\"Optimized phi:\", learned_phi.data.numpy())\n",
        "print(\"Final loss:\", MSELoss(learned_phi).item())"
      ],
      "metadata": {
        "colab": {
          "base_uri": "https://localhost:8080/"
        },
        "id": "keS2x_nhj6gS",
        "outputId": "63768f1a-d078-4300-b1af-ff876067cca9"
      },
      "execution_count": null,
      "outputs": [
        {
          "output_type": "display_data",
          "data": {
            "text/plain": [
              "<Figure size 600x600 with 1 Axes>"
            ],
            "image/png": "[encoded data removed]"
          },
          "metadata": {}
        },
        {
          "output_type": "stream",
          "name": "stdout",
          "text": [
            "Optimized phi: [25.688513 71.31982 ]\n",
            "Final loss: 206.2895489821342\n"
          ]
        }
      ]
    },
    {
      "cell_type": "markdown",
      "source": [
        "Ooh, spiral! See? Momentum! Not always a good thing it turns out...\n",
        "\n",
        "Play with the optimizers and hyperparameters for a bit. Try changing `phi_init` to be farther from the minimum to make it a harder problem in order to put the algorithms through their paces."
      ],
      "metadata": {
        "id": "ow6qXlk4oS40"
      }
    },
    {
      "cell_type": "code",
      "source": [
        "# Your code here\n",
        "..."
      ],
      "metadata": {
        "id": "xw8tbDTTonwg"
      },
      "execution_count": null,
      "outputs": []
    },
    {
      "cell_type": "markdown",
      "source": [
        "### 4. Exercise: Minimize the Beale function"
      ],
      "metadata": {
        "id": "4Bqvj74QozOt"
      }
    },
    {
      "cell_type": "markdown",
      "source": [
        "Now for your task: Minimize the Beale function\n",
        "$f(x,y)=(1.5-x+xy)^2+(2.25-x+xy^2)^2+(2.625-x+xy^3)^2$\n",
        "\n",
        "This function is commonly used to test new optimization algorithms. I'll even tell you where the minimum is: it's at (3,0.5) and has a value of 0. I want you to find it starting from an initial phi of\n",
        "\n",
        "\n",
        "*   (3,0.5) (it had better stay put!)\n",
        "*   (4,-3)\n",
        "*   (-4,4)\n",
        "*   (-1,2)\n",
        "*   (0,0)\n",
        "\n",
        "Use `torch.optim`'s algorithms. Some algorithms/hyperparameter choices will fail to find the global minimum at some of these points. Others will succeed.\n",
        "\n",
        "Deliver me the minimum.\n",
        "\n",
        "\n",
        "\n",
        "\n"
      ],
      "metadata": {
        "id": "rwyXaiyZo_Ur"
      }
    },
    {
      "cell_type": "code",
      "source": [
        "# Your code here\n",
        "..."
      ],
      "metadata": {
        "id": "yrC9K9nCqMyZ"
      },
      "execution_count": null,
      "outputs": []
    },
    {
      "cell_type": "markdown",
      "source": [
        "## Machine Learning: A Perceptron"
      ],
      "metadata": {
        "id": "eDK6tTjVsiYl"
      }
    },
    {
      "cell_type": "markdown",
      "source": [
        "\n",
        "\n",
        "The simplest neural network is the perceptron, which attempts to find the hyperplane (a line in 2D, which is what we'll be doing) seperating two clusters of data called \"classes\". The perceptron is therefore a \"classifier\".\n",
        "\n",
        "With 2D points and 2 possible classes, our network will be as simple as it gets: two input nodes and single output neuron, with two weights, a single bias, and a Heaviside step function for our nonlinear activation function. To train it, we will deploy what we've learned about autograd and gradient descent optimization.\n",
        "\n",
        "In this section, we will:\n",
        "1. Generate a 2D dataset with two clusters, labeled as class 0 and class 1, and shuffle and split the dataset into training and test sets.\n",
        "2. Define a simple perceptron model with:\n",
        "    - Two learnable weights\n",
        "    - One learnable bias\n",
        "3. Implement a hinge loss function compatible with labels 0 and 1.\n",
        "4. Use `torch.optim.Adam` to optimize the perceptron parameters.\n",
        "5. Evaluate accuracy on both training and test sets.\n",
        "6. Plot the decision boundary and the data points to visualize how the perceptron separates the classes.\n",
        "\n",
        "Let's begin!\n"
      ],
      "metadata": {
        "id": "dh3rBuGDswaV"
      }
    },
    {
      "cell_type": "markdown",
      "source": [
        "First, all our imports"
      ],
      "metadata": {
        "id": "R7r-sqRTvPvN"
      }
    },
    {
      "cell_type": "code",
      "source": [
        "import torch\n",
        "import numpy as np\n",
        "import matplotlib.pyplot as plt\n",
        "\n",
        "# For reproducibility, set a random seed\n",
        "torch.manual_seed(41)\n",
        "np.random.seed(41)"
      ],
      "metadata": {
        "id": "BfXTXKausxQ7"
      },
      "execution_count": null,
      "outputs": []
    },
    {
      "cell_type": "markdown",
      "source": [
        "### 1. Generate the Dataset\n",
        "\n"
      ],
      "metadata": {
        "id": "dlLJhknMuYYc"
      }
    },
    {
      "cell_type": "markdown",
      "source": [
        "\n",
        "We'll create two clusters of points in 2D space:\n",
        "- Class 0: Centered around (0, 0)\n",
        "- Class 1: Centered around (-2, 2)\n",
        "\n",
        "We will add a little random noise to make the dataset more interesting."
      ],
      "metadata": {
        "id": "PScEGaIjzTyq"
      }
    },
    {
      "cell_type": "code",
      "source": [
        "# Number of points per class\n",
        "n_per_class = 100\n",
        "\n",
        "# Generate cluster for class 0 (centered at (0,0))\n",
        "class0_data = np.random.randn(n_per_class, 2) * 0.5 + np.array([0, 0])\n",
        "class0_labels = np.zeros((n_per_class, 1))  # label = 0\n",
        "\n",
        "# Generate cluster for class 1 (centered at (-2,2))\n",
        "class1_data = np.random.randn(n_per_class, 2) * 0.5 + np.array([2, 2])\n",
        "class1_labels = np.ones((n_per_class, 1))   # label = 1\n",
        "\n",
        "# Concatenate the data and labels\n",
        "data = np.vstack((class0_data, class1_data))\n",
        "labels = np.vstack((class0_labels, class1_labels))\n",
        "\n",
        "# Shuffle the dataset\n",
        "indices = np.arange(len(data))\n",
        "np.random.shuffle(indices)\n",
        "data = data[indices]\n",
        "labels = labels[indices]\n",
        "\n",
        "# Convert to torch tensors\n",
        "data_tensor = torch.tensor(data, dtype=torch.float32)\n",
        "labels_tensor = torch.tensor(labels, dtype=torch.float32)\n",
        "\n",
        "# Split into training and test sets (e.g., 80% train, 20% test)\n",
        "train_size = int(0.8 * len(data_tensor))\n",
        "train_data = data_tensor[:train_size]\n",
        "train_labels = labels_tensor[:train_size]\n",
        "test_data = data_tensor[train_size:]\n",
        "test_labels = labels_tensor[train_size:]\n",
        "\n",
        "print(f\"Training data shape: {train_data.shape}\")\n",
        "print(f\"Test data shape: {test_data.shape}\")"
      ],
      "metadata": {
        "colab": {
          "base_uri": "https://localhost:8080/"
        },
        "id": "9gmml0ZEs4DU",
        "outputId": "88c0f885-d062-4322-c880-2bab4b7f2d4d"
      },
      "execution_count": null,
      "outputs": [
        {
          "output_type": "stream",
          "name": "stdout",
          "text": [
            "Training data shape: torch.Size([160, 2])\n",
            "Test data shape: torch.Size([40, 2])\n"
          ]
        }
      ]
    },
    {
      "cell_type": "markdown",
      "source": [
        "### 2. Define a Perceptron Model\n",
        "\n"
      ],
      "metadata": {
        "id": "96fkueV8uHwE"
      }
    },
    {
      "cell_type": "markdown",
      "source": [
        "\n",
        "A perceptron is a simple linear model with:\n",
        "$\n",
        "z = w_1 x_1 + w_2 x_2 + b\n",
        "$\n",
        "\n",
        "Given an input $(x_1, x_2)$, the perceptron's output/logit is $z$.  \n",
        "We then convert this logit to a predicted class by thresholding at 0:\n",
        "- If $z \\ge 0$, predict class 1\n",
        "- If $z < 0$, predict class 0\n",
        "\n",
        "We'll create a custom PyTorch `nn.Module` class with:\n",
        "- Two weights (`self.w`)\n",
        "- One bias (`self.b`)"
      ],
      "metadata": {
        "id": "RJg5vKDGzW_n"
      }
    },
    {
      "cell_type": "code",
      "source": [
        "class Perceptron(torch.nn.Module):\n",
        "    def __init__(self):\n",
        "        super(Perceptron, self).__init__()\n",
        "        # Create two learnable weights and one bias.\n",
        "        # torch.nn.Parameter makes them trainable parameters that the optimizer can update.\n",
        "        # Start with random values\n",
        "        self.w = torch.nn.Parameter(torch.randn(2, dtype=torch.float32))\n",
        "        self.b = ...\n",
        "\n",
        "    def forward(self, x):\n",
        "        \"\"\"\n",
        "        x: a tensor of shape (N, 2), where N is the number of samples.\n",
        "        Returns the raw score (logit) for each sample.\n",
        "        \"\"\"\n",
        "        # Should return x multiplied against w, and added to b\n",
        "        return ...\n",
        "\n",
        "    def predict_class(self, x):\n",
        "        \"\"\"\n",
        "        Predict class (0 or 1) by thresholding the logit (x, transformed by self.forward()) at 0.\n",
        "        \"\"\"\n",
        "        logits = ...\n",
        "        return ..."
      ],
      "metadata": {
        "id": "WZREI6Wgs9_Q"
      },
      "execution_count": null,
      "outputs": []
    },
    {
      "cell_type": "markdown",
      "source": [
        "### 3. Define the Hinge Loss Function\n",
        "\n"
      ],
      "metadata": {
        "id": "C8KUpv84tzoj"
      }
    },
    {
      "cell_type": "markdown",
      "source": [
        "\n",
        "For hinge loss, we typically use labels in $\\{-1, +1\\}$.  \n",
        "However, our labels are in $\\{0, 1\\}$. We can convert them using:\n",
        "$\n",
        "y_{\\text{binary}} = 2y - 1\n",
        "$\n",
        "Then the hinge loss for each example is:\n",
        "$\n",
        "L = \\max(0, 1 - y_{\\text{binary}} \\cdot z)\n",
        "$\n",
        "where $z$ is the logit (i.e., $w \\cdot x + b$).\n",
        "\n",
        "We'll compute the mean hinge loss over all samples."
      ],
      "metadata": {
        "id": "j7EuNMKUzZw-"
      }
    },
    {
      "cell_type": "code",
      "source": [
        "def hinge_loss(logits, labels):\n",
        "    \"\"\"\n",
        "    logits: Raw scores from the perceptron, shape (N,)\n",
        "    labels: Ground truth labels in {0, 1}, shape (N,1)\n",
        "\n",
        "    Returns: Mean hinge loss (scalar).\n",
        "    \"\"\"\n",
        "    # Convert labels from {0,1} to {-1,+1}\n",
        "    y_binary = ...\n",
        "\n",
        "    # Reshape logits to match labels shape, if needed\n",
        "    logits = logits.view(-1, 1)  # shape (N,1)\n",
        "\n",
        "    # Compute hinge loss per sample: max(0, 1 - y_binary * logits)\n",
        "    loss_per_sample = ...\n",
        "\n",
        "    # We need to return a scalar, rather than a vector. So, we return the mean over the batch\n",
        "    return ..."
      ],
      "metadata": {
        "id": "DMSG2ZfqtBDn"
      },
      "execution_count": null,
      "outputs": []
    },
    {
      "cell_type": "markdown",
      "source": [
        "### 4. Training Loop with Adam Optimizer\n"
      ],
      "metadata": {
        "id": "DmmcUqK1twpm"
      }
    },
    {
      "cell_type": "markdown",
      "source": [
        "We'll:\n",
        "1. Instantiate our perceptron\n",
        "2. Use Adam as the optimizer\n",
        "3. Perform several epochs of training\n",
        "   - Forward pass to get logits\n",
        "   - Compute hinge loss\n",
        "   - Backward pass to compute gradients\n",
        "   - Step the optimizer to update weights and bias\n",
        "4. Print training progress.\n"
      ],
      "metadata": {
        "id": "bE-9jYMLzcGv"
      }
    },
    {
      "cell_type": "code",
      "source": [
        "# Initialize the perceptron model\n",
        "model = Perceptron()\n",
        "\n",
        "# Define the optimizer (Adam) and a learning rate (try 0.01). Remember to assign it the model.paramaters() as the values to optimize!\n",
        "optimizer = ...\n",
        "\n",
        "# Number of training epochs\n",
        "epochs = 1000\n",
        "\n",
        "# Replicate what you did in the gradient descent section, but use the hinge_loss\n",
        "for epoch in range(epochs):\n",
        "\n",
        "    loss=...\n",
        "\n",
        "    # (Optional) Print loss every 100 epochs\n",
        "    if (epoch + 1) % 100 == 0:\n",
        "        print(f\"Epoch {epoch+1}/{epochs}, Loss: {loss.item():.4f}\")"
      ],
      "metadata": {
        "colab": {
          "base_uri": "https://localhost:8080/"
        },
        "id": "xwwFoWhhtFek",
        "outputId": "cf6bf292-3f4b-49e4-f673-9986bff7d394"
      },
      "execution_count": null,
      "outputs": [
        {
          "output_type": "stream",
          "name": "stdout",
          "text": [
            "Epoch 100/1000, Loss: 0.1584\n",
            "Epoch 200/1000, Loss: 0.0562\n",
            "Epoch 300/1000, Loss: 0.0358\n",
            "Epoch 400/1000, Loss: 0.0272\n",
            "Epoch 500/1000, Loss: 0.0220\n",
            "Epoch 600/1000, Loss: 0.0185\n",
            "Epoch 700/1000, Loss: 0.0157\n",
            "Epoch 800/1000, Loss: 0.0144\n",
            "Epoch 900/1000, Loss: 0.0138\n",
            "Epoch 1000/1000, Loss: 0.0132\n"
          ]
        }
      ]
    },
    {
      "cell_type": "markdown",
      "source": [
        "### 5. Evaluate Accuracy on Training and Test Sets\n"
      ],
      "metadata": {
        "id": "15fOefvJtsqi"
      }
    },
    {
      "cell_type": "markdown",
      "source": [
        "We get the predicted classes (0 or 1) by thresholding the model logits at 0. Then we compare them to the true labels and compute the fraction of correct predictions."
      ],
      "metadata": {
        "id": "HdURTO6Fzelb"
      }
    },
    {
      "cell_type": "code",
      "source": [
        "# Predict class on training data\n",
        "train_preds = model.predict_class(train_data)\n",
        "\n",
        "# Compare to ground truth\n",
        "train_correct = (train_preds.view(-1, 1) == train_labels).float().sum()\n",
        "train_accuracy = train_correct / len(train_labels)\n",
        "\n",
        "print(f\"Training Accuracy: {train_accuracy.item()*100:.2f}%\")\n",
        "\n",
        "# Predict class on test data\n",
        "test_preds = model.predict_class(test_data)\n",
        "\n",
        "# Compare to ground truth\n",
        "test_correct = (test_preds.view(-1, 1) == test_labels).float().sum()\n",
        "test_accuracy = test_correct / len(test_labels)\n",
        "\n",
        "print(f\"Test Accuracy: {test_accuracy.item()*100:.2f}%\")\n"
      ],
      "metadata": {
        "colab": {
          "base_uri": "https://localhost:8080/"
        },
        "id": "XrprupmztKFk",
        "outputId": "ade3e317-6ee3-4138-e55e-935e38cd40da"
      },
      "execution_count": null,
      "outputs": [
        {
          "output_type": "stream",
          "name": "stdout",
          "text": [
            "Training Accuracy: 99.37%\n",
            "Test Accuracy: 100.00%\n"
          ]
        }
      ]
    },
    {
      "cell_type": "markdown",
      "source": [
        "### 6. Plotting the Decision Boundary\n"
      ],
      "metadata": {
        "id": "Aou_8W9dtllJ"
      }
    },
    {
      "cell_type": "markdown",
      "source": [
        "\n",
        "To visualize the decision boundary:\n",
        "1. Create a grid of points (x, y).\n",
        "2. For each point in the grid, compute the perceptron's output and predict class.\n",
        "3. Color the background according to the predicted class (0 or 1).\n",
        "4. Overlay the training points, coloring them based on their true class.\n",
        "\n",
        "This shows us how the perceptron has partitioned the 2D space.\n",
        "When you're done, the plot should look something like this:\n",
        "![450px-ForwardAccumulationAutomaticDifferentiation.png](https://drive.google.com/uc?export=view&id=14LgPGvP0xLSgPf180ZTJXp_JINF76833)"
      ],
      "metadata": {
        "id": "ww3bfzffzgqV"
      }
    },
    {
      "cell_type": "code",
      "source": [
        "# Your code here\n",
        "..."
      ],
      "metadata": {
        "id": "u9E_Bbg9tSqU"
      },
      "execution_count": null,
      "outputs": []
    },
    {
      "cell_type": "markdown",
      "source": [
        "### Conclusion\n",
        "\n",
        "We've built a simple perceptron from scratch in PyTorch. We:\n",
        "- Generated a synthetic dataset of two classes.\n",
        "- Defined a custom perceptron with two weights and a bias.\n",
        "- Used a hinge loss function to guide training.\n",
        "- Optimized using the Adam optimizer.\n",
        "- Achieved high accuracy on both training and test sets.\n",
        "- Visualized the decision boundary, confirming that the perceptron separates the data clusters.\n",
        "\n",
        "This demonstrates the core ideas behind perceptron training and hinge loss in a modern deep learning framework.\n"
      ],
      "metadata": {
        "id": "PYKZrK8gtftn"
      }
    }
  ]
}